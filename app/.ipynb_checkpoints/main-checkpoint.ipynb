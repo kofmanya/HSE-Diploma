{
 "cells": [
  {
   "cell_type": "code",
   "execution_count": null,
   "id": "e457084a-8b60-41b8-9f11-2b92856d7586",
   "metadata": {},
   "outputs": [],
   "source": [
    "from fastapi import FastAPI, File, UploadFile\n",
    "from fastapi.responses import JSONResponse\n",
    "from PIL import Image\n",
    "import torch\n",
    "import numpy as np\n",
    "from app.utils import load_components, preprocess_image, classify_image, find_similar_item\n",
    "\n",
    "# Initialize FastAPI app\n",
    "app = FastAPI()\n",
    "\n",
    "# Load pre-trained components\n",
    "model, embeddings, zalando_items, transform = load_components()\n",
    "\n",
    "@app.get(\"/\")\n",
    "def root():\n",
    "    return {\"message\": \"Welcome to the Zalando Item Finder API\"}\n",
    "\n",
    "@app.post(\"/search/\")\n",
    "async def search_item(file: UploadFile = File(...)):\n",
    "    try:\n",
    "        # Read and preprocess the uploaded image\n",
    "        image = Image.open(file.file).convert(\"RGB\")\n",
    "        processed_image = preprocess_image(image, transform)\n",
    "\n",
    "        # Classify the image\n",
    "        category = classify_image(model, processed_image)\n",
    "\n",
    "        # Find the most similar item\n",
    "        similar_item = find_similar_item(processed_image, embeddings, zalando_items)\n",
    "\n",
    "        return JSONResponse(content={\n",
    "            \"category\": category,\n",
    "            \"similar_item\": similar_item\n",
    "        })\n",
    "\n",
    "    except Exception as e:\n",
    "        return JSONResponse(content={\"error\": str(e)}, status_code=500)"
   ]
  }
 ],
 "metadata": {
  "kernelspec": {
   "display_name": "Python 3 (ipykernel)",
   "language": "python",
   "name": "python3"
  },
  "language_info": {
   "codemirror_mode": {
    "name": "ipython",
    "version": 3
   },
   "file_extension": ".py",
   "mimetype": "text/x-python",
   "name": "python",
   "nbconvert_exporter": "python",
   "pygments_lexer": "ipython3",
   "version": "3.11.7"
  }
 },
 "nbformat": 4,
 "nbformat_minor": 5
}
